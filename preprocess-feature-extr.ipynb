{
 "cells": [
  {
   "cell_type": "markdown",
   "metadata": {},
   "source": [
    "SETUP"
   ]
  },
  {
   "cell_type": "code",
   "execution_count": 2,
   "metadata": {},
   "outputs": [
    {
     "name": "stderr",
     "output_type": "stream",
     "text": [
      "Using TensorFlow backend.\n"
     ]
    }
   ],
   "source": [
    "#SETUP\n",
    "import tensorflow as tf\n",
    "from keras.backend.tensorflow_backend import set_session\n",
    "\n",
    "config = tf.ConfigProto()\n",
    "config.gpu_options.allow_growth = True\n",
    "sess = tf.Session(config=config)\n",
    "set_session(sess)"
   ]
  },
  {
   "cell_type": "code",
   "execution_count": 3,
   "metadata": {},
   "outputs": [],
   "source": [
    "#imports\n",
    "import os\n",
    "from scipy.io import wavfile\n",
    "import pandas as pd\n",
    "import matplotlib.pyplot as plt\n",
    "%matplotlib inline \n",
    "import numpy as np\n",
    "from keras.layers import Conv2D, MaxPool2D, Flatten, LSTM\n",
    "from keras.layers import Dropout, Dense, TimeDistributed\n",
    "from keras.models import Sequential\n",
    "from keras.utils import to_categorical\n",
    "from sklearn.utils.class_weight import compute_class_weight\n",
    "from tqdm import tqdm\n",
    "from python_speech_features import mfcc, logfbank\n",
    "import librosa\n",
    "\n",
    "import pickle\n",
    "from keras.callbacks import ModelCheckpoint\n",
    "#from cfg import Config\n"
   ]
  },
  {
   "cell_type": "code",
   "execution_count": 4,
   "metadata": {},
   "outputs": [],
   "source": [
    "class Config:\n",
    "    def __init__(self, mode='conv', nfilt=60, nfeat=13, nfft=1024, rate=16000):\n",
    "        self.mode = mode\n",
    "        self.nfilt = nfilt\n",
    "        self.nfeat = nfeat\n",
    "        self.rate = rate\n",
    "        self.nfft = nfft\n",
    "        self.step = int(rate/2)\n",
    "        self.model_path = os.path.join('models', mode + '.model')\n",
    "        self.p_path = os.path.join('pickles', mode + '.p')\n",
    "\n",
    "config = Config(mode='conv')"
   ]
  },
  {
   "cell_type": "markdown",
   "metadata": {},
   "source": [
    "CREATE DATAFRAME"
   ]
  },
  {
   "cell_type": "code",
   "execution_count": 5,
   "metadata": {},
   "outputs": [
    {
     "name": "stderr",
     "output_type": "stream",
     "text": [
      "100%|██████████| 62/62 [00:00<00:00, 137.03it/s]\n",
      "100%|██████████| 381/381 [00:03<00:00, 104.31it/s]\n",
      "100%|██████████| 143/143 [00:01<00:00, 119.47it/s]\n",
      "100%|██████████| 436/436 [00:03<00:00, 117.57it/s]\n",
      "100%|██████████| 74/74 [00:00<00:00, 668.47it/s]\n",
      "100%|██████████| 493/493 [00:00<00:00, 730.68it/s]\n",
      "100%|██████████| 169/169 [00:00<00:00, 724.29it/s]\n",
      "100%|██████████| 410/410 [00:01<00:00, 206.40it/s]\n",
      "100%|██████████| 828/828 [00:10<00:00, 75.55it/s]\n"
     ]
    }
   ],
   "source": [
    "#DEFINE CONFIG IN NOTEBOOK\n",
    "#DOES NOT UPDATES!!\n",
    "def create_df(dir):\n",
    "    df_output = pd.DataFrame(columns=['path','tram_label','filename', 'length'])\n",
    "    i=0\n",
    "    for folder in os.listdir(dir):\n",
    "        if not folder.startswith('.'):\n",
    "            for subfolder in os.listdir(data_dir+\"/\"+folder):\n",
    "                if not subfolder.startswith('.'):\n",
    "                    for filename in tqdm(os.listdir(data_dir+\"/\"+folder+'/'+subfolder)):\n",
    "                        if not filename.startswith('.'):\n",
    "                            #print(i)\n",
    "                            #print(data_dir+\"/\"+folder+'/'+subfolder+'/'+filename)\n",
    "                            rate, signal = wavfile.read(data_dir+\"/\"+folder+'/'+subfolder+'/'+filename)\n",
    "                            #print(rate);\n",
    "                            df_output.loc[i] = [data_dir+\"/\"+folder+'/'+subfolder+'/'+filename,\n",
    "                                         folder+'/'+subfolder,\n",
    "                                         filename,\n",
    "                                         signal.shape[0]/rate]\n",
    "                            i+=1\n",
    "    return df_output\n",
    "\n",
    "data_dir = os.path.expanduser('tram_demo/downsampled')\n",
    "df = create_df(data_dir)\n",
    "df.set_index('filename', inplace=True)"
   ]
  },
  {
   "cell_type": "code",
   "execution_count": 7,
   "metadata": {},
   "outputs": [
    {
     "data": {
      "text/html": [
       "<div>\n",
       "<style scoped>\n",
       "    .dataframe tbody tr th:only-of-type {\n",
       "        vertical-align: middle;\n",
       "    }\n",
       "\n",
       "    .dataframe tbody tr th {\n",
       "        vertical-align: top;\n",
       "    }\n",
       "\n",
       "    .dataframe thead th {\n",
       "        text-align: right;\n",
       "    }\n",
       "</style>\n",
       "<table border=\"1\" class=\"dataframe\">\n",
       "  <thead>\n",
       "    <tr style=\"text-align: right;\">\n",
       "      <th></th>\n",
       "      <th>path</th>\n",
       "      <th>tram_label</th>\n",
       "      <th>length</th>\n",
       "    </tr>\n",
       "    <tr>\n",
       "      <th>filename</th>\n",
       "      <th></th>\n",
       "      <th></th>\n",
       "      <th></th>\n",
       "    </tr>\n",
       "  </thead>\n",
       "  <tbody>\n",
       "    <tr>\n",
       "      <th>tram-2018-11-24-21-18-54_40.70_43.73.mp4.wav</th>\n",
       "      <td>tram_demo/downsampled/braking/3_CKD_Short/tram...</td>\n",
       "      <td>braking/3_CKD_Short</td>\n",
       "      <td>3.030000</td>\n",
       "    </tr>\n",
       "    <tr>\n",
       "      <th>tram-2018-11-19-11-23-43_245.67_251.40.mp4.wav</th>\n",
       "      <td>tram_demo/downsampled/braking/3_CKD_Short/tram...</td>\n",
       "      <td>braking/3_CKD_Short</td>\n",
       "      <td>5.730062</td>\n",
       "    </tr>\n",
       "    <tr>\n",
       "      <th>tram-2018-11-23-22-20-22_4.30_8.63.mp4.wav</th>\n",
       "      <td>tram_demo/downsampled/braking/3_CKD_Short/tram...</td>\n",
       "      <td>braking/3_CKD_Short</td>\n",
       "      <td>4.330000</td>\n",
       "    </tr>\n",
       "    <tr>\n",
       "      <th>tram-2018-11-27-01-51-38_154.80_157.30.mp4.wav</th>\n",
       "      <td>tram_demo/downsampled/braking/3_CKD_Short/tram...</td>\n",
       "      <td>braking/3_CKD_Short</td>\n",
       "      <td>2.500000</td>\n",
       "    </tr>\n",
       "    <tr>\n",
       "      <th>tram-2018-11-26-15-22-20_72.30_76.53.mp4.wav</th>\n",
       "      <td>tram_demo/downsampled/braking/3_CKD_Short/tram...</td>\n",
       "      <td>braking/3_CKD_Short</td>\n",
       "      <td>4.230000</td>\n",
       "    </tr>\n",
       "  </tbody>\n",
       "</table>\n",
       "</div>"
      ],
      "text/plain": [
       "                                                                                             path  \\\n",
       "filename                                                                                            \n",
       "tram-2018-11-24-21-18-54_40.70_43.73.mp4.wav    tram_demo/downsampled/braking/3_CKD_Short/tram...   \n",
       "tram-2018-11-19-11-23-43_245.67_251.40.mp4.wav  tram_demo/downsampled/braking/3_CKD_Short/tram...   \n",
       "tram-2018-11-23-22-20-22_4.30_8.63.mp4.wav      tram_demo/downsampled/braking/3_CKD_Short/tram...   \n",
       "tram-2018-11-27-01-51-38_154.80_157.30.mp4.wav  tram_demo/downsampled/braking/3_CKD_Short/tram...   \n",
       "tram-2018-11-26-15-22-20_72.30_76.53.mp4.wav    tram_demo/downsampled/braking/3_CKD_Short/tram...   \n",
       "\n",
       "                                                         tram_label    length  \n",
       "filename                                                                       \n",
       "tram-2018-11-24-21-18-54_40.70_43.73.mp4.wav    braking/3_CKD_Short  3.030000  \n",
       "tram-2018-11-19-11-23-43_245.67_251.40.mp4.wav  braking/3_CKD_Short  5.730062  \n",
       "tram-2018-11-23-22-20-22_4.30_8.63.mp4.wav      braking/3_CKD_Short  4.330000  \n",
       "tram-2018-11-27-01-51-38_154.80_157.30.mp4.wav  braking/3_CKD_Short  2.500000  \n",
       "tram-2018-11-26-15-22-20_72.30_76.53.mp4.wav    braking/3_CKD_Short  4.230000  "
      ]
     },
     "execution_count": 7,
     "metadata": {},
     "output_type": "execute_result"
    }
   ],
   "source": [
    "df.head()"
   ]
  },
  {
   "cell_type": "code",
   "execution_count": null,
   "metadata": {},
   "outputs": [],
   "source": []
  },
  {
   "cell_type": "markdown",
   "metadata": {},
   "source": [
    "FEATURE EXTRACTION"
   ]
  },
  {
   "cell_type": "code",
   "execution_count": 6,
   "metadata": {},
   "outputs": [],
   "source": [
    "classes = list(np.unique(df['tram_label']))\n",
    "class_dist = df.groupby(['tram_label'])['length'].mean()\n",
    "n_samples = 5*int(df['length'].sum() / 0.1) #number of samples for features matrix\n",
    "prob_dist = class_dist / class_dist.sum() #probability distribution"
   ]
  },
  {
   "cell_type": "code",
   "execution_count": 7,
   "metadata": {},
   "outputs": [],
   "source": [
    "#FUNCTIONS\n",
    "\n",
    "#build feature matrix\n",
    "# def windows(data, window_size):\n",
    "#     start = 0\n",
    "#     while start < len(data):\n",
    "#         yield start, start + window_size\n",
    "#         start += (window_size / 2)\n",
    "def build_rand_feat(part_start, part_end):\n",
    "    X = []\n",
    "    y = []\n",
    "    _min, _max = float('inf'), -float('inf') #set like this in order to be updated\n",
    "    for fn in tqdm(df['path'][part_start : part_end]):\n",
    "        #rand_class = np.random.choice(class_dist.index, p=prob_dist)\n",
    "        #file = np.random.choice(df[df.label==rand_class].index)\n",
    "        #label = df.at[file, 'label']\n",
    "        rate, wav = wavfile.read(fn)\n",
    "        label = df[df.path == fn].tram_label[0]\n",
    "        \n",
    "        for i in np.arange(0, len(wav), config.step/20): #/22\n",
    "        #range(0, len(wav), config.step):\n",
    "            start = int(i)\n",
    "            end = int(i+config.step) if (i+config.step <= len(wav)) else len(wav)\n",
    "            if(len(wav[start:end]) == config.step):\n",
    "                sample = wav[start:end]\n",
    "                X_sample = mfcc(sample, rate,\n",
    "                            numcep=config.nfeat, nfilt=config.nfilt, nfft=config.nfft) #just regular fcc\n",
    "                _min = min(np.amin(X_sample), _min)\n",
    "                _max = max(np.amax(X_sample), _max)\n",
    "                X.append(X_sample)\n",
    "                y.append(classes.index(label)) #encoding classes to integers\n",
    "        \n",
    "    config.min = _min\n",
    "    config.max = _max\n",
    "    X, y = np.array(X), np.array(y)\n",
    "    X = (X - _min) / (_max - _min)\n",
    "    if config.mode == 'conv':\n",
    "        X = X.reshape(X.shape[0], X.shape[1], X.shape[2], 1) #adding greyscale pixel\n",
    "    elif config.mode == 'time':\n",
    "        X = X.reshape(X.shape[0], X.shape[1], X.shape[2])\n",
    "    y = to_categorical(y, num_classes = 9) #should we remove 1 in order to avoid a cat val trap?\n",
    "#     config.data = (X, y)\n",
    "    \n",
    "#     with open(config.p_path, 'wb') as handle:\n",
    "#         pickle.dump(config, handle, protocol=2)\n",
    "    return X, y\n"
   ]
  },
  {
   "cell_type": "code",
   "execution_count": null,
   "metadata": {},
   "outputs": [],
   "source": [
    "\n"
   ]
  },
  {
   "cell_type": "code",
   "execution_count": 8,
   "metadata": {},
   "outputs": [
    {
     "name": "stderr",
     "output_type": "stream",
     "text": [
      "100%|██████████| 500/500 [02:21<00:00,  3.69it/s]\n",
      "100%|██████████| 500/500 [02:04<00:00,  3.98it/s]\n",
      "100%|██████████| 500/500 [01:48<00:00,  4.76it/s]\n",
      "100%|██████████| 500/500 [01:44<00:00,  4.44it/s]\n",
      "100%|██████████| 500/500 [04:09<00:00,  1.49it/s]\n",
      "100%|██████████| 496/496 [05:21<00:00,  1.51it/s]\n"
     ]
    }
   ],
   "source": [
    "X, y = build_rand_feat(0, 500)\n",
    "X_part, y_part = build_rand_feat(500, 1000)\n",
    "X_part1, y_part1 = build_rand_feat(1000, 1500)\n",
    "X_part2, y_part2 = build_rand_feat(1500, 2000)\n",
    "X_part3, y_part3 = build_rand_feat(2000, 2500)\n",
    "X_part4, y_part4 = build_rand_feat(2500, 2997)\n",
    "    "
   ]
  },
  {
   "cell_type": "code",
   "execution_count": 11,
   "metadata": {},
   "outputs": [],
   "source": [
    "X_append = np.concatenate((X, X_part,X_part1,X_part2,X_part3,X_part4), axis=0)\n",
    "y_append = np.concatenate((y, y_part,y_part1,y_part2,y_part3,y_part4), axis=0)\n"
   ]
  },
  {
   "cell_type": "code",
   "execution_count": 1,
   "metadata": {},
   "outputs": [
    {
     "ename": "NameError",
     "evalue": "name 'X_append' is not defined",
     "output_type": "error",
     "traceback": [
      "\u001b[0;31m---------------------------------------------------------------------------\u001b[0m",
      "\u001b[0;31mNameError\u001b[0m                                 Traceback (most recent call last)",
      "\u001b[0;32m<ipython-input-1-dbc130d5b2d9>\u001b[0m in \u001b[0;36m<module>\u001b[0;34m\u001b[0m\n\u001b[0;32m----> 1\u001b[0;31m \u001b[0mprint\u001b[0m\u001b[0;34m(\u001b[0m\u001b[0mX_append\u001b[0m\u001b[0;34m.\u001b[0m\u001b[0mshape\u001b[0m\u001b[0;34m,\u001b[0m \u001b[0my_append\u001b[0m\u001b[0;34m.\u001b[0m\u001b[0mshape\u001b[0m\u001b[0;34m)\u001b[0m\u001b[0;34m\u001b[0m\u001b[0;34m\u001b[0m\u001b[0m\n\u001b[0m",
      "\u001b[0;31mNameError\u001b[0m: name 'X_append' is not defined"
     ]
    }
   ],
   "source": [
    "print(X_append.shape, y_append.shape)"
   ]
  },
  {
   "cell_type": "code",
   "execution_count": 23,
   "metadata": {},
   "outputs": [
    {
     "ename": "ValueError",
     "evalue": "Must pass 2-d input",
     "output_type": "error",
     "traceback": [
      "\u001b[0;31m---------------------------------------------------------------------------\u001b[0m",
      "\u001b[0;31mValueError\u001b[0m                                Traceback (most recent call last)",
      "\u001b[0;32m<ipython-input-23-2c536dd952f4>\u001b[0m in \u001b[0;36m<module>\u001b[0;34m\u001b[0m\n\u001b[1;32m      1\u001b[0m \u001b[0;31m#TRY TO SAVE EXTRACTED FEATURES TO CSV\u001b[0m\u001b[0;34m\u001b[0m\u001b[0;34m\u001b[0m\u001b[0;34m\u001b[0m\u001b[0m\n\u001b[0;32m----> 2\u001b[0;31m \u001b[0mpd\u001b[0m\u001b[0;34m.\u001b[0m\u001b[0mDataFrame\u001b[0m\u001b[0;34m(\u001b[0m\u001b[0mX_append\u001b[0m\u001b[0;34m)\u001b[0m\u001b[0;34m.\u001b[0m\u001b[0mto_csv\u001b[0m\u001b[0;34m(\u001b[0m\u001b[0;34m\"extracted_feat/X_extract.csv\"\u001b[0m\u001b[0;34m)\u001b[0m\u001b[0;34m\u001b[0m\u001b[0;34m\u001b[0m\u001b[0m\n\u001b[0m\u001b[1;32m      3\u001b[0m \u001b[0mpd\u001b[0m\u001b[0;34m.\u001b[0m\u001b[0mDataFrame\u001b[0m\u001b[0;34m(\u001b[0m\u001b[0my_append\u001b[0m\u001b[0;34m)\u001b[0m\u001b[0;34m.\u001b[0m\u001b[0mto_csv\u001b[0m\u001b[0;34m(\u001b[0m\u001b[0;34m\"extracted_feat/y_extract.csv\"\u001b[0m\u001b[0;34m)\u001b[0m\u001b[0;34m\u001b[0m\u001b[0;34m\u001b[0m\u001b[0m\n",
      "\u001b[0;32m/data/users/mscibor/trams.env/lib/python3.6/site-packages/pandas/core/frame.py\u001b[0m in \u001b[0;36m__init__\u001b[0;34m(self, data, index, columns, dtype, copy)\u001b[0m\n\u001b[1;32m    422\u001b[0m             \u001b[0;32melse\u001b[0m\u001b[0;34m:\u001b[0m\u001b[0;34m\u001b[0m\u001b[0;34m\u001b[0m\u001b[0m\n\u001b[1;32m    423\u001b[0m                 mgr = init_ndarray(data, index, columns, dtype=dtype,\n\u001b[0;32m--> 424\u001b[0;31m                                    copy=copy)\n\u001b[0m\u001b[1;32m    425\u001b[0m \u001b[0;34m\u001b[0m\u001b[0m\n\u001b[1;32m    426\u001b[0m         \u001b[0;31m# For data is list-like, or Iterable (will consume into list)\u001b[0m\u001b[0;34m\u001b[0m\u001b[0;34m\u001b[0m\u001b[0;34m\u001b[0m\u001b[0m\n",
      "\u001b[0;32m/data/users/mscibor/trams.env/lib/python3.6/site-packages/pandas/core/internals/construction.py\u001b[0m in \u001b[0;36minit_ndarray\u001b[0;34m(values, index, columns, dtype, copy)\u001b[0m\n\u001b[1;32m    144\u001b[0m     \u001b[0;31m# by definition an array here\u001b[0m\u001b[0;34m\u001b[0m\u001b[0;34m\u001b[0m\u001b[0;34m\u001b[0m\u001b[0m\n\u001b[1;32m    145\u001b[0m     \u001b[0;31m# the dtypes will be coerced to a single dtype\u001b[0m\u001b[0;34m\u001b[0m\u001b[0;34m\u001b[0m\u001b[0;34m\u001b[0m\u001b[0m\n\u001b[0;32m--> 146\u001b[0;31m     \u001b[0mvalues\u001b[0m \u001b[0;34m=\u001b[0m \u001b[0mprep_ndarray\u001b[0m\u001b[0;34m(\u001b[0m\u001b[0mvalues\u001b[0m\u001b[0;34m,\u001b[0m \u001b[0mcopy\u001b[0m\u001b[0;34m=\u001b[0m\u001b[0mcopy\u001b[0m\u001b[0;34m)\u001b[0m\u001b[0;34m\u001b[0m\u001b[0;34m\u001b[0m\u001b[0m\n\u001b[0m\u001b[1;32m    147\u001b[0m \u001b[0;34m\u001b[0m\u001b[0m\n\u001b[1;32m    148\u001b[0m     \u001b[0;32mif\u001b[0m \u001b[0mdtype\u001b[0m \u001b[0;32mis\u001b[0m \u001b[0;32mnot\u001b[0m \u001b[0;32mNone\u001b[0m\u001b[0;34m:\u001b[0m\u001b[0;34m\u001b[0m\u001b[0;34m\u001b[0m\u001b[0m\n",
      "\u001b[0;32m/data/users/mscibor/trams.env/lib/python3.6/site-packages/pandas/core/internals/construction.py\u001b[0m in \u001b[0;36mprep_ndarray\u001b[0;34m(values, copy)\u001b[0m\n\u001b[1;32m    247\u001b[0m         \u001b[0mvalues\u001b[0m \u001b[0;34m=\u001b[0m \u001b[0mvalues\u001b[0m\u001b[0;34m.\u001b[0m\u001b[0mreshape\u001b[0m\u001b[0;34m(\u001b[0m\u001b[0;34m(\u001b[0m\u001b[0mvalues\u001b[0m\u001b[0;34m.\u001b[0m\u001b[0mshape\u001b[0m\u001b[0;34m[\u001b[0m\u001b[0;36m0\u001b[0m\u001b[0;34m]\u001b[0m\u001b[0;34m,\u001b[0m \u001b[0;36m1\u001b[0m\u001b[0;34m)\u001b[0m\u001b[0;34m)\u001b[0m\u001b[0;34m\u001b[0m\u001b[0;34m\u001b[0m\u001b[0m\n\u001b[1;32m    248\u001b[0m     \u001b[0;32melif\u001b[0m \u001b[0mvalues\u001b[0m\u001b[0;34m.\u001b[0m\u001b[0mndim\u001b[0m \u001b[0;34m!=\u001b[0m \u001b[0;36m2\u001b[0m\u001b[0;34m:\u001b[0m\u001b[0;34m\u001b[0m\u001b[0;34m\u001b[0m\u001b[0m\n\u001b[0;32m--> 249\u001b[0;31m         \u001b[0;32mraise\u001b[0m \u001b[0mValueError\u001b[0m\u001b[0;34m(\u001b[0m\u001b[0;34m'Must pass 2-d input'\u001b[0m\u001b[0;34m)\u001b[0m\u001b[0;34m\u001b[0m\u001b[0;34m\u001b[0m\u001b[0m\n\u001b[0m\u001b[1;32m    250\u001b[0m \u001b[0;34m\u001b[0m\u001b[0m\n\u001b[1;32m    251\u001b[0m     \u001b[0;32mreturn\u001b[0m \u001b[0mvalues\u001b[0m\u001b[0;34m\u001b[0m\u001b[0;34m\u001b[0m\u001b[0m\n",
      "\u001b[0;31mValueError\u001b[0m: Must pass 2-d input"
     ]
    }
   ],
   "source": [
    "#TRY TO SAVE EXTRACTED FEATURES TO CSV - ONLY FOR 2D\n",
    "# pd.DataFrame(X_append).to_csv(\"extracted_feat/X_extract.csv\")\n",
    "# pd.DataFrame(y_append).to_csv(\"extracted_feat/y_extract.csv\")"
   ]
  },
  {
   "cell_type": "code",
   "execution_count": null,
   "metadata": {},
   "outputs": [],
   "source": [
    "#THIS CAUSES ERROR - probably to big size for saving\n",
    "config.data = (X_append, y_append)\n",
    "    \n",
    "with open(config.p_path, 'wb') as handle:\n",
    "    pickle.dump(config, handle, protocol=2)"
   ]
  },
  {
   "cell_type": "code",
   "execution_count": 11,
   "metadata": {},
   "outputs": [
    {
     "data": {
      "text/plain": [
       "(32095, 49, 13, 1)"
      ]
     },
     "execution_count": 11,
     "metadata": {},
     "output_type": "execute_result"
    }
   ],
   "source": [
    "X.shape"
   ]
  },
  {
   "cell_type": "code",
   "execution_count": 17,
   "metadata": {},
   "outputs": [],
   "source": [
    "def get_conv_model():\n",
    "    model = Sequential()\n",
    "    model.add(Conv2D(16, (7,7), activation='relu', strides=(1,1),\n",
    "                     padding='same', input_shape=input_shape)) #pulling only once because matrix size (13,9,1) - in order to preserve data\n",
    "    model.add(Conv2D(32, (7,7), activation='relu', strides=(1,1),\n",
    "                     padding='same'))\n",
    "    model.add(MaxPool2D((4,4)))\n",
    "    model.add(Conv2D(32, (5,5), activation='relu', strides=(1,1),\n",
    "                     padding='same'))\n",
    "    model.add(Dropout(0.1))\n",
    "    model.add(Conv2D(64, (3,3), activation='relu', strides=(1,1),\n",
    "                     padding='same'))\n",
    "    model.add(MaxPool2D((2,5)))\n",
    "    model.add(Dropout(0.5))\n",
    "    model.add(Flatten())\n",
    "    model.add(Dense(64, activation='relu'))\n",
    "    model.add(Dense(32, activation='relu'))\n",
    "    model.add(Dense(32, activation='relu'))\n",
    "    model.add(Dense(9, activation='softmax'))\n",
    "    model.summary()\n",
    "    model.compile(loss='categorical_crossentropy',\n",
    "                  optimizer='adam',\n",
    "                  metrics=['accuracy'])\n",
    "    return model\n",
    "def loda_features():\n",
    "    if os.path.isfile(config.p_path):\n",
    "        print('Loading existing data for {} model'.format(config.mode))\n",
    "        with open(config.p_path, 'rb') as handle:\n",
    "            tmp = pickle.load(handle)\n",
    "            return tmp.data[0], tmp.data[1]\n",
    "    else:\n",
    "        return None\n"
   ]
  },
  {
   "cell_type": "code",
   "execution_count": 18,
   "metadata": {},
   "outputs": [
    {
     "name": "stdout",
     "output_type": "stream",
     "text": [
      "_________________________________________________________________\n",
      "Layer (type)                 Output Shape              Param #   \n",
      "=================================================================\n",
      "conv2d_9 (Conv2D)            (None, 49, 13, 16)        160       \n",
      "_________________________________________________________________\n",
      "conv2d_10 (Conv2D)           (None, 49, 13, 32)        4640      \n",
      "_________________________________________________________________\n",
      "conv2d_11 (Conv2D)           (None, 49, 13, 64)        18496     \n",
      "_________________________________________________________________\n",
      "dropout_3 (Dropout)          (None, 49, 13, 64)        0         \n",
      "_________________________________________________________________\n",
      "conv2d_12 (Conv2D)           (None, 49, 13, 128)       73856     \n",
      "_________________________________________________________________\n",
      "max_pooling2d_3 (MaxPooling2 (None, 24, 6, 128)        0         \n",
      "_________________________________________________________________\n",
      "dropout_4 (Dropout)          (None, 24, 6, 128)        0         \n",
      "_________________________________________________________________\n",
      "flatten_3 (Flatten)          (None, 18432)             0         \n",
      "_________________________________________________________________\n",
      "dense_9 (Dense)              (None, 128)               2359424   \n",
      "_________________________________________________________________\n",
      "dense_10 (Dense)             (None, 64)                8256      \n",
      "_________________________________________________________________\n",
      "dense_11 (Dense)             (None, 32)                2080      \n",
      "_________________________________________________________________\n",
      "dense_12 (Dense)             (None, 9)                 297       \n",
      "=================================================================\n",
      "Total params: 2,467,209\n",
      "Trainable params: 2,467,209\n",
      "Non-trainable params: 0\n",
      "_________________________________________________________________\n"
     ]
    }
   ],
   "source": [
    "#X, y = load_features()\n",
    "X, y = X_append, y_append\n",
    "y_flat = np.argmax(y, axis=1)\n",
    "input_shape = (X.shape[1], X.shape[2], 1)\n",
    "model = get_conv_model()\n",
    "checkpoint = ModelCheckpoint(config.model_path, monitor='val_acc', verbose=1, mode='max',\n",
    "                         save_best_only=True, save_weights_only=False, period=1)"
   ]
  },
  {
   "cell_type": "code",
   "execution_count": 19,
   "metadata": {},
   "outputs": [
    {
     "name": "stdout",
     "output_type": "stream",
     "text": [
      "_________________________________________________________________\n",
      "Layer (type)                 Output Shape              Param #   \n",
      "=================================================================\n",
      "conv2d_13 (Conv2D)           (None, 49, 13, 16)        160       \n",
      "_________________________________________________________________\n",
      "conv2d_14 (Conv2D)           (None, 49, 13, 32)        4640      \n",
      "_________________________________________________________________\n",
      "conv2d_15 (Conv2D)           (None, 49, 13, 64)        18496     \n",
      "_________________________________________________________________\n",
      "dropout_5 (Dropout)          (None, 49, 13, 64)        0         \n",
      "_________________________________________________________________\n",
      "conv2d_16 (Conv2D)           (None, 49, 13, 128)       73856     \n",
      "_________________________________________________________________\n",
      "max_pooling2d_4 (MaxPooling2 (None, 24, 6, 128)        0         \n",
      "_________________________________________________________________\n",
      "dropout_6 (Dropout)          (None, 24, 6, 128)        0         \n",
      "_________________________________________________________________\n",
      "flatten_4 (Flatten)          (None, 18432)             0         \n",
      "_________________________________________________________________\n",
      "dense_13 (Dense)             (None, 128)               2359424   \n",
      "_________________________________________________________________\n",
      "dense_14 (Dense)             (None, 64)                8256      \n",
      "_________________________________________________________________\n",
      "dense_15 (Dense)             (None, 32)                2080      \n",
      "_________________________________________________________________\n",
      "dense_16 (Dense)             (None, 9)                 297       \n",
      "=================================================================\n",
      "Total params: 2,467,209\n",
      "Trainable params: 2,467,209\n",
      "Non-trainable params: 0\n",
      "_________________________________________________________________\n",
      "Train on 543855 samples, validate on 60429 samples\n",
      "Epoch 1/10\n",
      "543855/543855 [==============================] - 1511s 3ms/step - loss: 0.2760 - acc: 0.9125 - val_loss: 0.2748 - val_acc: 0.9217\n",
      "\n",
      "Epoch 00001: val_acc improved from -inf to 0.92171, saving model to models/conv.model\n",
      "Epoch 2/10\n",
      "543855/543855 [==============================] - 1447s 3ms/step - loss: 0.1666 - acc: 0.9442 - val_loss: 0.1289 - val_acc: 0.9673\n",
      "\n",
      "Epoch 00002: val_acc improved from 0.92171 to 0.96728, saving model to models/conv.model\n",
      "Epoch 3/10\n",
      "543855/543855 [==============================] - 1752s 3ms/step - loss: 0.1367 - acc: 0.9539 - val_loss: 0.0907 - val_acc: 0.9752\n",
      "\n",
      "Epoch 00003: val_acc improved from 0.96728 to 0.97521, saving model to models/conv.model\n",
      "Epoch 4/10\n",
      "543855/543855 [==============================] - 1434s 3ms/step - loss: 0.1203 - acc: 0.9589 - val_loss: 0.0907 - val_acc: 0.9781\n",
      "\n",
      "Epoch 00004: val_acc improved from 0.97521 to 0.97806, saving model to models/conv.model\n",
      "Epoch 5/10\n",
      "543855/543855 [==============================] - 1559s 3ms/step - loss: 0.1074 - acc: 0.9630 - val_loss: 0.1430 - val_acc: 0.9619\n",
      "\n",
      "Epoch 00005: val_acc did not improve from 0.97806\n",
      "Epoch 6/10\n",
      "543855/543855 [==============================] - 1415s 3ms/step - loss: 0.0987 - acc: 0.9665 - val_loss: 0.2042 - val_acc: 0.9517\n",
      "\n",
      "Epoch 00006: val_acc did not improve from 0.97806\n",
      "Epoch 7/10\n",
      "543855/543855 [==============================] - 1416s 3ms/step - loss: 0.0920 - acc: 0.9688 - val_loss: 0.1207 - val_acc: 0.9713\n",
      "\n",
      "Epoch 00007: val_acc did not improve from 0.97806\n",
      "Epoch 8/10\n",
      "543855/543855 [==============================] - 1426s 3ms/step - loss: 0.0867 - acc: 0.9709 - val_loss: 0.3141 - val_acc: 0.9255\n",
      "\n",
      "Epoch 00008: val_acc did not improve from 0.97806\n",
      "Epoch 9/10\n",
      " 79776/543855 [===>..........................] - ETA: 19:48 - loss: 0.0813 - acc: 0.9725"
     ]
    },
    {
     "name": "stderr",
     "output_type": "stream",
     "text": [
      "IOPub message rate exceeded.\n",
      "The notebook server will temporarily stop sending output\n",
      "to the client in order to avoid crashing it.\n",
      "To change this limit, set the config variable\n",
      "`--NotebookApp.iopub_msg_rate_limit`.\n",
      "\n",
      "Current values:\n",
      "NotebookApp.iopub_msg_rate_limit=1000.0 (msgs/sec)\n",
      "NotebookApp.rate_limit_window=3.0 (secs)\n",
      "\n"
     ]
    },
    {
     "name": "stdout",
     "output_type": "stream",
     "text": [
      "543855/543855 [==============================] - 1427s 3ms/step - loss: 0.0823 - acc: 0.9724 - val_loss: 0.1636 - val_acc: 0.9608\n",
      "\n",
      "Epoch 00009: val_acc did not improve from 0.97806\n",
      "Epoch 10/10\n",
      " 10592/543855 [..............................] - ETA: 22:51 - loss: 0.0776 - acc: 0.9748"
     ]
    },
    {
     "name": "stderr",
     "output_type": "stream",
     "text": [
      "IOPub message rate exceeded.\n",
      "The notebook server will temporarily stop sending output\n",
      "to the client in order to avoid crashing it.\n",
      "To change this limit, set the config variable\n",
      "`--NotebookApp.iopub_msg_rate_limit`.\n",
      "\n",
      "Current values:\n",
      "NotebookApp.iopub_msg_rate_limit=1000.0 (msgs/sec)\n",
      "NotebookApp.rate_limit_window=3.0 (secs)\n",
      "\n"
     ]
    },
    {
     "name": "stdout",
     "output_type": "stream",
     "text": [
      "462016/543855 [========================>.....] - ETA: 3:32 - loss: 0.0793 - acc: 0.9736"
     ]
    },
    {
     "name": "stderr",
     "output_type": "stream",
     "text": [
      "IOPub message rate exceeded.\n",
      "The notebook server will temporarily stop sending output\n",
      "to the client in order to avoid crashing it.\n",
      "To change this limit, set the config variable\n",
      "`--NotebookApp.iopub_msg_rate_limit`.\n",
      "\n",
      "Current values:\n",
      "NotebookApp.iopub_msg_rate_limit=1000.0 (msgs/sec)\n",
      "NotebookApp.rate_limit_window=3.0 (secs)\n",
      "\n"
     ]
    }
   ],
   "source": [
    "model = get_conv_model()\n",
    "history = model.fit(X, y, epochs=10, batch_size=32,\n",
    "          shuffle=True,\n",
    "          validation_split=0.1,\n",
    "          callbacks=[checkpoint])\n",
    "model.save(config.model_path)"
   ]
  },
  {
   "cell_type": "code",
   "execution_count": 13,
   "metadata": {},
   "outputs": [
    {
     "name": "stderr",
     "output_type": "stream",
     "text": [
      "WARNING: Logging before flag parsing goes to stderr.\n",
      "W0703 21:09:01.393248 140474100987712 deprecation_wrapper.py:119] From /data/users/mscibor/trams.env/lib/python3.6/site-packages/keras/backend/tensorflow_backend.py:517: The name tf.placeholder is deprecated. Please use tf.compat.v1.placeholder instead.\n",
      "\n",
      "W0703 21:09:01.395145 140474100987712 deprecation_wrapper.py:119] From /data/users/mscibor/trams.env/lib/python3.6/site-packages/keras/backend/tensorflow_backend.py:4138: The name tf.random_uniform is deprecated. Please use tf.random.uniform instead.\n",
      "\n",
      "W0703 21:09:01.431750 140474100987712 deprecation_wrapper.py:119] From /data/users/mscibor/trams.env/lib/python3.6/site-packages/keras/backend/tensorflow_backend.py:131: The name tf.get_default_graph is deprecated. Please use tf.compat.v1.get_default_graph instead.\n",
      "\n",
      "W0703 21:09:01.432249 140474100987712 deprecation_wrapper.py:119] From /data/users/mscibor/trams.env/lib/python3.6/site-packages/keras/backend/tensorflow_backend.py:133: The name tf.placeholder_with_default is deprecated. Please use tf.compat.v1.placeholder_with_default instead.\n",
      "\n",
      "W0703 21:09:01.437687 140474100987712 deprecation.py:506] From /data/users/mscibor/trams.env/lib/python3.6/site-packages/keras/backend/tensorflow_backend.py:3445: calling dropout (from tensorflow.python.ops.nn_ops) with keep_prob is deprecated and will be removed in a future version.\n",
      "Instructions for updating:\n",
      "Please use `rate` instead of `keep_prob`. Rate should be set to `rate = 1 - keep_prob`.\n",
      "W0703 21:09:01.454137 140474100987712 deprecation_wrapper.py:119] From /data/users/mscibor/trams.env/lib/python3.6/site-packages/keras/backend/tensorflow_backend.py:3976: The name tf.nn.max_pool is deprecated. Please use tf.nn.max_pool2d instead.\n",
      "\n",
      "W0703 21:09:01.522808 140474100987712 deprecation_wrapper.py:119] From /data/users/mscibor/trams.env/lib/python3.6/site-packages/keras/backend/tensorflow_backend.py:174: The name tf.get_default_session is deprecated. Please use tf.compat.v1.get_default_session instead.\n",
      "\n",
      "W0703 21:09:01.609780 140474100987712 deprecation_wrapper.py:119] From /data/users/mscibor/trams.env/lib/python3.6/site-packages/keras/optimizers.py:790: The name tf.train.Optimizer is deprecated. Please use tf.compat.v1.train.Optimizer instead.\n",
      "\n",
      "W0703 21:09:01.677953 140474100987712 deprecation.py:323] From /data/users/mscibor/trams.env/lib/python3.6/site-packages/tensorflow/python/ops/math_grad.py:1250: add_dispatch_support.<locals>.wrapper (from tensorflow.python.ops.array_ops) is deprecated and will be removed in a future version.\n",
      "Instructions for updating:\n",
      "Use tf.where in 2.0, which has the same broadcast rule as np.where\n"
     ]
    },
    {
     "ename": "NameError",
     "evalue": "name 'history' is not defined",
     "output_type": "error",
     "traceback": [
      "\u001b[0;31m---------------------------------------------------------------------------\u001b[0m",
      "\u001b[0;31mNameError\u001b[0m                                 Traceback (most recent call last)",
      "\u001b[0;32m<ipython-input-13-d60dd0d68e5c>\u001b[0m in \u001b[0;36m<module>\u001b[0;34m\u001b[0m\n\u001b[1;32m      1\u001b[0m \u001b[0;32mfrom\u001b[0m \u001b[0mkeras\u001b[0m\u001b[0;34m.\u001b[0m\u001b[0mmodels\u001b[0m \u001b[0;32mimport\u001b[0m \u001b[0mload_model\u001b[0m\u001b[0;34m\u001b[0m\u001b[0;34m\u001b[0m\u001b[0m\n\u001b[1;32m      2\u001b[0m \u001b[0mmodel\u001b[0m \u001b[0;34m=\u001b[0m \u001b[0mload_model\u001b[0m\u001b[0;34m(\u001b[0m\u001b[0;34m'models/conv.model'\u001b[0m\u001b[0;34m)\u001b[0m\u001b[0;34m\u001b[0m\u001b[0;34m\u001b[0m\u001b[0m\n\u001b[0;32m----> 3\u001b[0;31m \u001b[0mhistory\u001b[0m\u001b[0;34m.\u001b[0m\u001b[0mhistory\u001b[0m\u001b[0;34m\u001b[0m\u001b[0;34m\u001b[0m\u001b[0m\n\u001b[0m",
      "\u001b[0;31mNameError\u001b[0m: name 'history' is not defined"
     ]
    }
   ],
   "source": [
    "from keras.models import load_model\n",
    "model = load_model('models/conv.model')\n",
    "history.history"
   ]
  },
  {
   "cell_type": "code",
   "execution_count": 22,
   "metadata": {},
   "outputs": [
    {
     "data": {
      "text/plain": [
       "<module 'matplotlib.pyplot' from '/data/users/mscibor/trams.env/lib/python3.6/site-packages/matplotlib/pyplot.py'>"
      ]
     },
     "execution_count": 22,
     "metadata": {},
     "output_type": "execute_result"
    },
    {
     "data": {
      "image/png": "[encoded data removed]",
      "text/plain": [
       "<Figure size 432x288 with 1 Axes>"
      ]
     },
     "metadata": {
      "needs_background": "light"
     },
     "output_type": "display_data"
    }
   ],
   "source": [
    "plt.plot(history.history['acc'], label='Train Accuracy')\n",
    "plt.plot(history.history['val_acc'], label='Validation Accuracy')\n",
    "plt.xlabel('Epochs')\n",
    "plt.ylabel('Accuracy')\n",
    "plt.legend()\n",
    "plt"
   ]
  },
  {
   "cell_type": "code",
   "execution_count": 9,
   "metadata": {},
   "outputs": [
    {
     "data": {
      "text/plain": [
       "68.85964767524779"
      ]
     },
     "execution_count": 9,
     "metadata": {},
     "output_type": "execute_result"
    }
   ],
   "source": [
    "\n",
    "config.max"
   ]
  },
  {
   "cell_type": "code",
   "execution_count": 10,
   "metadata": {},
   "outputs": [
    {
     "data": {
      "text/plain": [
       "-83.47210746139987"
      ]
     },
     "execution_count": 10,
     "metadata": {},
     "output_type": "execute_result"
    }
   ],
   "source": [
    " config.min"
   ]
  },
  {
   "cell_type": "code",
   "execution_count": null,
   "metadata": {},
   "outputs": [],
   "source": []
  }
 ],
 "metadata": {
  "kernelspec": {
   "display_name": "trams",
   "language": "python",
   "name": "trams"
  },
  "language_info": {
   "codemirror_mode": {
    "name": "ipython",
    "version": 3
   },
   "file_extension": ".py",
   "mimetype": "text/x-python",
   "name": "python",
   "nbconvert_exporter": "python",
   "pygments_lexer": "ipython3",
   "version": "3.6.7"
  }
 },
 "nbformat": 4,
 "nbformat_minor": 2
}
