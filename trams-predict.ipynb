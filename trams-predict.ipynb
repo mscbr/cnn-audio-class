{
 "cells": [
  {
   "cell_type": "markdown",
   "metadata": {},
   "source": [
    "<h1>Tram signal classification</h1>"
   ]
  },
  {
   "cell_type": "code",
   "execution_count": 1,
   "metadata": {},
   "outputs": [
    {
     "name": "stderr",
     "output_type": "stream",
     "text": [
      "Using TensorFlow backend.\n"
     ]
    }
   ],
   "source": [
    "#SET UP\n",
    "import tensorflow as tf\n",
    "from keras.backend.tensorflow_backend import set_session\n",
    "\n",
    "config = tf.ConfigProto()\n",
    "config.gpu_options.allow_growth = True\n",
    "sess = tf.Session(config=config)\n",
    "set_session(sess)"
   ]
  },
  {
   "cell_type": "code",
   "execution_count": 1,
   "metadata": {},
   "outputs": [
    {
     "name": "stderr",
     "output_type": "stream",
     "text": [
      "Using TensorFlow backend.\n"
     ]
    }
   ],
   "source": [
    "#imports\n",
    "import pickle\n",
    "import os\n",
    "import numpy as np\n",
    "from tqdm import tqdm\n",
    "from python_speech_features import mfcc\n",
    "from keras.models import load_model\n",
    "import pandas as pd\n",
    "import librosa"
   ]
  },
  {
   "cell_type": "code",
   "execution_count": 3,
   "metadata": {},
   "outputs": [],
   "source": [
    "class Config:\n",
    "    def __init__(self, mode='conv', nfilt=60, nfeat=13, nfft=1024, rate=16000):\n",
    "        self.mode = mode\n",
    "        self.nfilt = nfilt\n",
    "        self.nfeat = nfeat\n",
    "        self.rate = rate\n",
    "        self.nfft = nfft\n",
    "        self.step = int(rate/2)\n",
    "        self.model_path = os.path.join('models', mode + '.model')\n",
    "        self.p_path = os.path.join('pickles', mode + '.p')\n",
    "\n",
    "\n",
    "config = Config(mode='conv')\n",
    "config.max = 68.85964767524779\n",
    "config.min = -83.47210746139987"
   ]
  },
  {
   "cell_type": "markdown",
   "metadata": {},
   "source": [
    "<h2>INSERT FILE PATH</H2>"
   ]
  },
  {
   "cell_type": "code",
   "execution_count": 13,
   "metadata": {},
   "outputs": [],
   "source": [
    "file = 'tram_demo/test_files/tram-2018-11-30-15-30-17.wav'"
   ]
  },
  {
   "cell_type": "code",
   "execution_count": 14,
   "metadata": {},
   "outputs": [],
   "source": [
    "#defs\n",
    "\n",
    "def build_predictions(file):\n",
    "    y_true = []\n",
    "    y_pred = []\n",
    "    fn_prob = {} #for softmax probs\n",
    "    y_prob = []\n",
    "    \n",
    "    wav, rate = librosa.load(file, sr=16000)\n",
    "    \n",
    "    for i in tqdm(range(0, wav.shape[0]-config.step, 10)): #'x10' for fewer samplepoints \n",
    "        sample = wav[i:i+config.step]\n",
    "        x = mfcc(sample, rate, numcep=config.nfeat,\n",
    "                 nfilt=config.nfilt, nfft=config.nfft)\n",
    "        \n",
    "        #normalization\n",
    "        x = (x - config.min)/(config.max - config.min)\n",
    "        #reshaping for CNN purposes + grayscale layer\n",
    "        x = x.reshape(1, x.shape[0], x.shape[1], 1)\n",
    "        \n",
    "        y_hat = model.predict(x)\n",
    "        y_prob.append(y_hat)\n",
    "        y_pred.append(np.argmax(y_hat)) #for the max val in y_hat, taking the index\n",
    "        #y_true.apppend(c)\n",
    "        fn_prob[i] = np.mean(y_prob, axis=0).flatten()\n",
    "    #fn_prob[fn] = np.mean(y_prob, axis=0).flatten()\n",
    "    return y_true, y_pred, fn_prob"
   ]
  },
  {
   "cell_type": "code",
   "execution_count": null,
   "metadata": {},
   "outputs": [
    {
     "name": "stderr",
     "output_type": "stream",
     "text": [
      " 90%|█████████ | 432488/479200 [9:03:13<1:49:08,  7.13it/s]"
     ]
    }
   ],
   "source": [
    "# p_path = os.path.join('pickles', 'conv.p')\n",
    "# with open(p_path, 'rb') as handle:\n",
    "#     config = pickle.load(handle)\n",
    "#file = 'tram_demo/test_files/tram-2018-12-07-15-32-08.wav'\n",
    "\n",
    "classes = ['accelerating_1_New', 'accelerating_2_CKD_Long', 'accelerating_3_CKD_Short', 'accelerating_4_Old', \n",
    "           'braking_1_New', 'braking_2_CKD_Long', 'braking_3_CKD_Short', 'braking_4_Old', 'negative']\n",
    "\n",
    "    \n",
    "model = load_model('models/conv.model')\n",
    "path_ = 'tram_demo/test_files'\n",
    "\n",
    "\n",
    "\n",
    "y_true, y_pred, fn_prob = build_predictions(file)\n",
    "#acc_score = accuracy_score(y_true=y_true, y_pred=y_pred)\n",
    "\n",
    "df = pd.DataFrame.from_dict(fn_prob, orient='index')\n",
    "\n",
    "df = pd.read_csv('df_structure.csv')\n",
    "seconds_offset = []\n",
    "for key in fn_prob:\n",
    "    seconds_offset.append(key)\n",
    "df[\"seconds_offset\"] = seconds_offset\n",
    "df.set_index('seconds_offset', inplace=True)\n",
    "y_probs = []\n",
    "for key in fn_prob:\n",
    "    y_prob = fn_prob[key]\n",
    "    y_probs.append(y_prob)\n",
    "    for c, p in zip(classes, y_prob):\n",
    "       df.at[key, c] = p\n",
    "\n",
    "\n",
    "y_pred = [classes[np.argmax(y)] for y in y_probs]\n",
    "df['y_pred'] = y_pred\n",
    "df['index'] = range(0, len(df))\n",
    "df.set_index('index', inplace=True)\n",
    "df[\"seconds_offset\"] = seconds_offset\n",
    "df.to_csv('predictions_.csv', index=False)\n",
    "print('CSV succesfuly written!')"
   ]
  },
  {
   "cell_type": "code",
   "execution_count": 39,
   "metadata": {},
   "outputs": [
    {
     "data": {
      "text/html": [
       "<div>\n",
       "<style scoped>\n",
       "    .dataframe tbody tr th:only-of-type {\n",
       "        vertical-align: middle;\n",
       "    }\n",
       "\n",
       "    .dataframe tbody tr th {\n",
       "        vertical-align: top;\n",
       "    }\n",
       "\n",
       "    .dataframe thead th {\n",
       "        text-align: right;\n",
       "    }\n",
       "</style>\n",
       "<table border=\"1\" class=\"dataframe\">\n",
       "  <thead>\n",
       "    <tr style=\"text-align: right;\">\n",
       "      <th></th>\n",
       "      <th>accelerating_1_New</th>\n",
       "      <th>accelerating_2_CKD_Long</th>\n",
       "      <th>accelerating_3_CKD_Short</th>\n",
       "      <th>accelerating_4_Old</th>\n",
       "      <th>braking_1_New</th>\n",
       "      <th>braking_2_CKD_Long</th>\n",
       "      <th>braking_3_CKD_Short</th>\n",
       "      <th>braking_4_Old</th>\n",
       "      <th>negative</th>\n",
       "      <th>y_pred</th>\n",
       "      <th>seconds_offset</th>\n",
       "    </tr>\n",
       "    <tr>\n",
       "      <th>index</th>\n",
       "      <th></th>\n",
       "      <th></th>\n",
       "      <th></th>\n",
       "      <th></th>\n",
       "      <th></th>\n",
       "      <th></th>\n",
       "      <th></th>\n",
       "      <th></th>\n",
       "      <th></th>\n",
       "      <th></th>\n",
       "      <th></th>\n",
       "    </tr>\n",
       "  </thead>\n",
       "  <tbody>\n",
       "    <tr>\n",
       "      <th>47979</th>\n",
       "      <td>0.00612004</td>\n",
       "      <td>0.00037264</td>\n",
       "      <td>0.00209162</td>\n",
       "      <td>0.0141423</td>\n",
       "      <td>0.0478943</td>\n",
       "      <td>0.0122613</td>\n",
       "      <td>0.0242149</td>\n",
       "      <td>0.05414</td>\n",
       "      <td>0.838771</td>\n",
       "      <td>negative</td>\n",
       "      <td>4797900</td>\n",
       "    </tr>\n",
       "    <tr>\n",
       "      <th>47980</th>\n",
       "      <td>0.00611993</td>\n",
       "      <td>0.000372632</td>\n",
       "      <td>0.00209158</td>\n",
       "      <td>0.014142</td>\n",
       "      <td>0.0479023</td>\n",
       "      <td>0.012261</td>\n",
       "      <td>0.0242145</td>\n",
       "      <td>0.0541403</td>\n",
       "      <td>0.838763</td>\n",
       "      <td>negative</td>\n",
       "      <td>4798000</td>\n",
       "    </tr>\n",
       "    <tr>\n",
       "      <th>47981</th>\n",
       "      <td>0.00611989</td>\n",
       "      <td>0.000372624</td>\n",
       "      <td>0.00209154</td>\n",
       "      <td>0.0141418</td>\n",
       "      <td>0.0479131</td>\n",
       "      <td>0.0122608</td>\n",
       "      <td>0.024214</td>\n",
       "      <td>0.0541396</td>\n",
       "      <td>0.838754</td>\n",
       "      <td>negative</td>\n",
       "      <td>4798100</td>\n",
       "    </tr>\n",
       "    <tr>\n",
       "      <th>47982</th>\n",
       "      <td>0.00611981</td>\n",
       "      <td>0.000372617</td>\n",
       "      <td>0.00209149</td>\n",
       "      <td>0.0141415</td>\n",
       "      <td>0.0479289</td>\n",
       "      <td>0.0122606</td>\n",
       "      <td>0.0242135</td>\n",
       "      <td>0.054139</td>\n",
       "      <td>0.83874</td>\n",
       "      <td>negative</td>\n",
       "      <td>4798200</td>\n",
       "    </tr>\n",
       "    <tr>\n",
       "      <th>47983</th>\n",
       "      <td>0.00611971</td>\n",
       "      <td>0.000372609</td>\n",
       "      <td>0.00209145</td>\n",
       "      <td>0.0141412</td>\n",
       "      <td>0.0479454</td>\n",
       "      <td>0.0122604</td>\n",
       "      <td>0.024213</td>\n",
       "      <td>0.0541382</td>\n",
       "      <td>0.838726</td>\n",
       "      <td>negative</td>\n",
       "      <td>4798300</td>\n",
       "    </tr>\n",
       "  </tbody>\n",
       "</table>\n",
       "</div>"
      ],
      "text/plain": [
       "      accelerating_1_New accelerating_2_CKD_Long accelerating_3_CKD_Short  \\\n",
       "index                                                                       \n",
       "47979         0.00612004              0.00037264               0.00209162   \n",
       "47980         0.00611993             0.000372632               0.00209158   \n",
       "47981         0.00611989             0.000372624               0.00209154   \n",
       "47982         0.00611981             0.000372617               0.00209149   \n",
       "47983         0.00611971             0.000372609               0.00209145   \n",
       "\n",
       "      accelerating_4_Old braking_1_New braking_2_CKD_Long braking_3_CKD_Short  \\\n",
       "index                                                                           \n",
       "47979          0.0141423     0.0478943          0.0122613           0.0242149   \n",
       "47980           0.014142     0.0479023           0.012261           0.0242145   \n",
       "47981          0.0141418     0.0479131          0.0122608            0.024214   \n",
       "47982          0.0141415     0.0479289          0.0122606           0.0242135   \n",
       "47983          0.0141412     0.0479454          0.0122604            0.024213   \n",
       "\n",
       "      braking_4_Old  negative    y_pred  seconds_offset  \n",
       "index                                                    \n",
       "47979       0.05414  0.838771  negative         4797900  \n",
       "47980     0.0541403  0.838763  negative         4798000  \n",
       "47981     0.0541396  0.838754  negative         4798100  \n",
       "47982      0.054139   0.83874  negative         4798200  \n",
       "47983     0.0541382  0.838726  negative         4798300  "
      ]
     },
     "execution_count": 39,
     "metadata": {},
     "output_type": "execute_result"
    }
   ],
   "source": [
    "\n",
    "df.tail()\n"
   ]
  },
  {
   "cell_type": "markdown",
   "metadata": {},
   "source": [
    "<h1><b>PLOTTING</b></h1>"
   ]
  },
  {
   "cell_type": "code",
   "execution_count": null,
   "metadata": {},
   "outputs": [],
   "source": []
  },
  {
   "cell_type": "code",
   "execution_count": 7,
   "metadata": {},
   "outputs": [
    {
     "data": {
      "text/html": [
       "<div>\n",
       "<style scoped>\n",
       "    .dataframe tbody tr th:only-of-type {\n",
       "        vertical-align: middle;\n",
       "    }\n",
       "\n",
       "    .dataframe tbody tr th {\n",
       "        vertical-align: top;\n",
       "    }\n",
       "\n",
       "    .dataframe thead th {\n",
       "        text-align: right;\n",
       "    }\n",
       "</style>\n",
       "<table border=\"1\" class=\"dataframe\">\n",
       "  <thead>\n",
       "    <tr style=\"text-align: right;\">\n",
       "      <th></th>\n",
       "      <th>accelerating_1_New</th>\n",
       "      <th>accelerating_2_CKD_Long</th>\n",
       "      <th>accelerating_3_CKD_Short</th>\n",
       "      <th>accelerating_4_Old</th>\n",
       "      <th>braking_1_New</th>\n",
       "      <th>braking_2_CKD_Long</th>\n",
       "      <th>braking_3_CKD_Short</th>\n",
       "      <th>braking_4_Old</th>\n",
       "      <th>negative</th>\n",
       "      <th>y_pred</th>\n",
       "      <th>seconds_offset</th>\n",
       "    </tr>\n",
       "  </thead>\n",
       "  <tbody>\n",
       "    <tr>\n",
       "      <th>0</th>\n",
       "      <td>2.291528e-09</td>\n",
       "      <td>2.022402e-07</td>\n",
       "      <td>7.885011e-16</td>\n",
       "      <td>6.444020e-07</td>\n",
       "      <td>0.000003</td>\n",
       "      <td>2.746647e-09</td>\n",
       "      <td>1.600789e-08</td>\n",
       "      <td>2.898583e-08</td>\n",
       "      <td>0.999996</td>\n",
       "      <td>negative</td>\n",
       "      <td>0</td>\n",
       "    </tr>\n",
       "    <tr>\n",
       "      <th>1</th>\n",
       "      <td>2.081013e-09</td>\n",
       "      <td>2.079482e-07</td>\n",
       "      <td>6.430369e-16</td>\n",
       "      <td>5.414821e-07</td>\n",
       "      <td>0.000003</td>\n",
       "      <td>2.328083e-09</td>\n",
       "      <td>1.551231e-08</td>\n",
       "      <td>2.609393e-08</td>\n",
       "      <td>0.999996</td>\n",
       "      <td>negative</td>\n",
       "      <td>100</td>\n",
       "    </tr>\n",
       "    <tr>\n",
       "      <th>2</th>\n",
       "      <td>3.080317e-09</td>\n",
       "      <td>3.253387e-07</td>\n",
       "      <td>1.181367e-15</td>\n",
       "      <td>5.889498e-07</td>\n",
       "      <td>0.000006</td>\n",
       "      <td>2.998657e-09</td>\n",
       "      <td>2.433799e-08</td>\n",
       "      <td>3.750361e-08</td>\n",
       "      <td>0.999993</td>\n",
       "      <td>negative</td>\n",
       "      <td>200</td>\n",
       "    </tr>\n",
       "    <tr>\n",
       "      <th>3</th>\n",
       "      <td>3.543040e-09</td>\n",
       "      <td>3.660110e-07</td>\n",
       "      <td>1.486299e-15</td>\n",
       "      <td>6.414942e-07</td>\n",
       "      <td>0.000006</td>\n",
       "      <td>3.426640e-09</td>\n",
       "      <td>2.776781e-08</td>\n",
       "      <td>4.249527e-08</td>\n",
       "      <td>0.999993</td>\n",
       "      <td>negative</td>\n",
       "      <td>300</td>\n",
       "    </tr>\n",
       "    <tr>\n",
       "      <th>4</th>\n",
       "      <td>3.126193e-09</td>\n",
       "      <td>3.265078e-07</td>\n",
       "      <td>1.257180e-15</td>\n",
       "      <td>5.914377e-07</td>\n",
       "      <td>0.000006</td>\n",
       "      <td>3.051922e-09</td>\n",
       "      <td>2.454297e-08</td>\n",
       "      <td>3.765621e-08</td>\n",
       "      <td>0.999993</td>\n",
       "      <td>negative</td>\n",
       "      <td>400</td>\n",
       "    </tr>\n",
       "  </tbody>\n",
       "</table>\n",
       "</div>"
      ],
      "text/plain": [
       "   accelerating_1_New  accelerating_2_CKD_Long  accelerating_3_CKD_Short  \\\n",
       "0        2.291528e-09             2.022402e-07              7.885011e-16   \n",
       "1        2.081013e-09             2.079482e-07              6.430369e-16   \n",
       "2        3.080317e-09             3.253387e-07              1.181367e-15   \n",
       "3        3.543040e-09             3.660110e-07              1.486299e-15   \n",
       "4        3.126193e-09             3.265078e-07              1.257180e-15   \n",
       "\n",
       "   accelerating_4_Old  braking_1_New  braking_2_CKD_Long  braking_3_CKD_Short  \\\n",
       "0        6.444020e-07       0.000003        2.746647e-09         1.600789e-08   \n",
       "1        5.414821e-07       0.000003        2.328083e-09         1.551231e-08   \n",
       "2        5.889498e-07       0.000006        2.998657e-09         2.433799e-08   \n",
       "3        6.414942e-07       0.000006        3.426640e-09         2.776781e-08   \n",
       "4        5.914377e-07       0.000006        3.051922e-09         2.454297e-08   \n",
       "\n",
       "   braking_4_Old  negative    y_pred  seconds_offset  \n",
       "0   2.898583e-08  0.999996  negative               0  \n",
       "1   2.609393e-08  0.999996  negative             100  \n",
       "2   3.750361e-08  0.999993  negative             200  \n",
       "3   4.249527e-08  0.999993  negative             300  \n",
       "4   3.765621e-08  0.999993  negative             400  "
      ]
     },
     "execution_count": 7,
     "metadata": {},
     "output_type": "execute_result"
    }
   ],
   "source": [
    "\n",
    "df = pd.read_csv('predictions_.csv')\n",
    "\n",
    "\n",
    "df.head()\n",
    "\n"
   ]
  },
  {
   "cell_type": "markdown",
   "metadata": {},
   "source": [
    "<h1>PLOTS</h1>"
   ]
  },
  {
   "cell_type": "code",
   "execution_count": 9,
   "metadata": {},
   "outputs": [
    {
     "ename": "KeyError",
     "evalue": "'seconds_offset'",
     "output_type": "error",
     "traceback": [
      "\u001b[0;31m---------------------------------------------------------------------------\u001b[0m",
      "\u001b[0;31mKeyError\u001b[0m                                  Traceback (most recent call last)",
      "\u001b[0;32m/data/users/mscibor/trams.env/lib/python3.6/site-packages/pandas/core/indexes/base.py\u001b[0m in \u001b[0;36mget_loc\u001b[0;34m(self, key, method, tolerance)\u001b[0m\n\u001b[1;32m   2656\u001b[0m             \u001b[0;32mtry\u001b[0m\u001b[0;34m:\u001b[0m\u001b[0;34m\u001b[0m\u001b[0;34m\u001b[0m\u001b[0m\n\u001b[0;32m-> 2657\u001b[0;31m                 \u001b[0;32mreturn\u001b[0m \u001b[0mself\u001b[0m\u001b[0;34m.\u001b[0m\u001b[0m_engine\u001b[0m\u001b[0;34m.\u001b[0m\u001b[0mget_loc\u001b[0m\u001b[0;34m(\u001b[0m\u001b[0mkey\u001b[0m\u001b[0;34m)\u001b[0m\u001b[0;34m\u001b[0m\u001b[0;34m\u001b[0m\u001b[0m\n\u001b[0m\u001b[1;32m   2658\u001b[0m             \u001b[0;32mexcept\u001b[0m \u001b[0mKeyError\u001b[0m\u001b[0;34m:\u001b[0m\u001b[0;34m\u001b[0m\u001b[0;34m\u001b[0m\u001b[0m\n",
      "\u001b[0;32mpandas/_libs/index.pyx\u001b[0m in \u001b[0;36mpandas._libs.index.IndexEngine.get_loc\u001b[0;34m()\u001b[0m\n",
      "\u001b[0;32mpandas/_libs/index.pyx\u001b[0m in \u001b[0;36mpandas._libs.index.IndexEngine.get_loc\u001b[0;34m()\u001b[0m\n",
      "\u001b[0;32mpandas/_libs/hashtable_class_helper.pxi\u001b[0m in \u001b[0;36mpandas._libs.hashtable.PyObjectHashTable.get_item\u001b[0;34m()\u001b[0m\n",
      "\u001b[0;32mpandas/_libs/hashtable_class_helper.pxi\u001b[0m in \u001b[0;36mpandas._libs.hashtable.PyObjectHashTable.get_item\u001b[0;34m()\u001b[0m\n",
      "\u001b[0;31mKeyError\u001b[0m: 'seconds_offset'",
      "\nDuring handling of the above exception, another exception occurred:\n",
      "\u001b[0;31mKeyError\u001b[0m                                  Traceback (most recent call last)",
      "\u001b[0;32m<ipython-input-9-a84fa7d47dab>\u001b[0m in \u001b[0;36m<module>\u001b[0;34m\u001b[0m\n\u001b[1;32m      1\u001b[0m \u001b[0mdf\u001b[0m\u001b[0;34m.\u001b[0m\u001b[0mcolumns\u001b[0m\u001b[0;34m\u001b[0m\u001b[0;34m\u001b[0m\u001b[0m\n\u001b[0;32m----> 2\u001b[0;31m \u001b[0mdf\u001b[0m\u001b[0;34m.\u001b[0m\u001b[0mset_index\u001b[0m\u001b[0;34m(\u001b[0m\u001b[0;34m'seconds_offset'\u001b[0m\u001b[0;34m,\u001b[0m \u001b[0minplace\u001b[0m\u001b[0;34m=\u001b[0m\u001b[0;32mTrue\u001b[0m\u001b[0;34m)\u001b[0m\u001b[0;34m\u001b[0m\u001b[0;34m\u001b[0m\u001b[0m\n\u001b[0m\u001b[1;32m      3\u001b[0m \u001b[0mdf\u001b[0m\u001b[0;34m.\u001b[0m\u001b[0mgroupby\u001b[0m\u001b[0;34m(\u001b[0m\u001b[0;34m\"y_pred\"\u001b[0m\u001b[0;34m)\u001b[0m\u001b[0;34m.\u001b[0m\u001b[0mmean\u001b[0m\u001b[0;34m(\u001b[0m\u001b[0;34m)\u001b[0m\u001b[0;34m\u001b[0m\u001b[0;34m\u001b[0m\u001b[0m\n",
      "\u001b[0;32m/data/users/mscibor/trams.env/lib/python3.6/site-packages/pandas/core/frame.py\u001b[0m in \u001b[0;36mset_index\u001b[0;34m(self, keys, drop, append, inplace, verify_integrity)\u001b[0m\n\u001b[1;32m   4176\u001b[0m                 \u001b[0mnames\u001b[0m\u001b[0;34m.\u001b[0m\u001b[0mappend\u001b[0m\u001b[0;34m(\u001b[0m\u001b[0;32mNone\u001b[0m\u001b[0;34m)\u001b[0m\u001b[0;34m\u001b[0m\u001b[0;34m\u001b[0m\u001b[0m\n\u001b[1;32m   4177\u001b[0m             \u001b[0;32melse\u001b[0m\u001b[0;34m:\u001b[0m\u001b[0;34m\u001b[0m\u001b[0;34m\u001b[0m\u001b[0m\n\u001b[0;32m-> 4178\u001b[0;31m                 \u001b[0mlevel\u001b[0m \u001b[0;34m=\u001b[0m \u001b[0mframe\u001b[0m\u001b[0;34m[\u001b[0m\u001b[0mcol\u001b[0m\u001b[0;34m]\u001b[0m\u001b[0;34m.\u001b[0m\u001b[0m_values\u001b[0m\u001b[0;34m\u001b[0m\u001b[0;34m\u001b[0m\u001b[0m\n\u001b[0m\u001b[1;32m   4179\u001b[0m                 \u001b[0mnames\u001b[0m\u001b[0;34m.\u001b[0m\u001b[0mappend\u001b[0m\u001b[0;34m(\u001b[0m\u001b[0mcol\u001b[0m\u001b[0;34m)\u001b[0m\u001b[0;34m\u001b[0m\u001b[0;34m\u001b[0m\u001b[0m\n\u001b[1;32m   4180\u001b[0m                 \u001b[0;32mif\u001b[0m \u001b[0mdrop\u001b[0m\u001b[0;34m:\u001b[0m\u001b[0;34m\u001b[0m\u001b[0;34m\u001b[0m\u001b[0m\n",
      "\u001b[0;32m/data/users/mscibor/trams.env/lib/python3.6/site-packages/pandas/core/frame.py\u001b[0m in \u001b[0;36m__getitem__\u001b[0;34m(self, key)\u001b[0m\n\u001b[1;32m   2925\u001b[0m             \u001b[0;32mif\u001b[0m \u001b[0mself\u001b[0m\u001b[0;34m.\u001b[0m\u001b[0mcolumns\u001b[0m\u001b[0;34m.\u001b[0m\u001b[0mnlevels\u001b[0m \u001b[0;34m>\u001b[0m \u001b[0;36m1\u001b[0m\u001b[0;34m:\u001b[0m\u001b[0;34m\u001b[0m\u001b[0;34m\u001b[0m\u001b[0m\n\u001b[1;32m   2926\u001b[0m                 \u001b[0;32mreturn\u001b[0m \u001b[0mself\u001b[0m\u001b[0;34m.\u001b[0m\u001b[0m_getitem_multilevel\u001b[0m\u001b[0;34m(\u001b[0m\u001b[0mkey\u001b[0m\u001b[0;34m)\u001b[0m\u001b[0;34m\u001b[0m\u001b[0;34m\u001b[0m\u001b[0m\n\u001b[0;32m-> 2927\u001b[0;31m             \u001b[0mindexer\u001b[0m \u001b[0;34m=\u001b[0m \u001b[0mself\u001b[0m\u001b[0;34m.\u001b[0m\u001b[0mcolumns\u001b[0m\u001b[0;34m.\u001b[0m\u001b[0mget_loc\u001b[0m\u001b[0;34m(\u001b[0m\u001b[0mkey\u001b[0m\u001b[0;34m)\u001b[0m\u001b[0;34m\u001b[0m\u001b[0;34m\u001b[0m\u001b[0m\n\u001b[0m\u001b[1;32m   2928\u001b[0m             \u001b[0;32mif\u001b[0m \u001b[0mis_integer\u001b[0m\u001b[0;34m(\u001b[0m\u001b[0mindexer\u001b[0m\u001b[0;34m)\u001b[0m\u001b[0;34m:\u001b[0m\u001b[0;34m\u001b[0m\u001b[0;34m\u001b[0m\u001b[0m\n\u001b[1;32m   2929\u001b[0m                 \u001b[0mindexer\u001b[0m \u001b[0;34m=\u001b[0m \u001b[0;34m[\u001b[0m\u001b[0mindexer\u001b[0m\u001b[0;34m]\u001b[0m\u001b[0;34m\u001b[0m\u001b[0;34m\u001b[0m\u001b[0m\n",
      "\u001b[0;32m/data/users/mscibor/trams.env/lib/python3.6/site-packages/pandas/core/indexes/base.py\u001b[0m in \u001b[0;36mget_loc\u001b[0;34m(self, key, method, tolerance)\u001b[0m\n\u001b[1;32m   2657\u001b[0m                 \u001b[0;32mreturn\u001b[0m \u001b[0mself\u001b[0m\u001b[0;34m.\u001b[0m\u001b[0m_engine\u001b[0m\u001b[0;34m.\u001b[0m\u001b[0mget_loc\u001b[0m\u001b[0;34m(\u001b[0m\u001b[0mkey\u001b[0m\u001b[0;34m)\u001b[0m\u001b[0;34m\u001b[0m\u001b[0;34m\u001b[0m\u001b[0m\n\u001b[1;32m   2658\u001b[0m             \u001b[0;32mexcept\u001b[0m \u001b[0mKeyError\u001b[0m\u001b[0;34m:\u001b[0m\u001b[0;34m\u001b[0m\u001b[0;34m\u001b[0m\u001b[0m\n\u001b[0;32m-> 2659\u001b[0;31m                 \u001b[0;32mreturn\u001b[0m \u001b[0mself\u001b[0m\u001b[0;34m.\u001b[0m\u001b[0m_engine\u001b[0m\u001b[0;34m.\u001b[0m\u001b[0mget_loc\u001b[0m\u001b[0;34m(\u001b[0m\u001b[0mself\u001b[0m\u001b[0;34m.\u001b[0m\u001b[0m_maybe_cast_indexer\u001b[0m\u001b[0;34m(\u001b[0m\u001b[0mkey\u001b[0m\u001b[0;34m)\u001b[0m\u001b[0;34m)\u001b[0m\u001b[0;34m\u001b[0m\u001b[0;34m\u001b[0m\u001b[0m\n\u001b[0m\u001b[1;32m   2660\u001b[0m         \u001b[0mindexer\u001b[0m \u001b[0;34m=\u001b[0m \u001b[0mself\u001b[0m\u001b[0;34m.\u001b[0m\u001b[0mget_indexer\u001b[0m\u001b[0;34m(\u001b[0m\u001b[0;34m[\u001b[0m\u001b[0mkey\u001b[0m\u001b[0;34m]\u001b[0m\u001b[0;34m,\u001b[0m \u001b[0mmethod\u001b[0m\u001b[0;34m=\u001b[0m\u001b[0mmethod\u001b[0m\u001b[0;34m,\u001b[0m \u001b[0mtolerance\u001b[0m\u001b[0;34m=\u001b[0m\u001b[0mtolerance\u001b[0m\u001b[0;34m)\u001b[0m\u001b[0;34m\u001b[0m\u001b[0;34m\u001b[0m\u001b[0m\n\u001b[1;32m   2661\u001b[0m         \u001b[0;32mif\u001b[0m \u001b[0mindexer\u001b[0m\u001b[0;34m.\u001b[0m\u001b[0mndim\u001b[0m \u001b[0;34m>\u001b[0m \u001b[0;36m1\u001b[0m \u001b[0;32mor\u001b[0m \u001b[0mindexer\u001b[0m\u001b[0;34m.\u001b[0m\u001b[0msize\u001b[0m \u001b[0;34m>\u001b[0m \u001b[0;36m1\u001b[0m\u001b[0;34m:\u001b[0m\u001b[0;34m\u001b[0m\u001b[0;34m\u001b[0m\u001b[0m\n",
      "\u001b[0;32mpandas/_libs/index.pyx\u001b[0m in \u001b[0;36mpandas._libs.index.IndexEngine.get_loc\u001b[0;34m()\u001b[0m\n",
      "\u001b[0;32mpandas/_libs/index.pyx\u001b[0m in \u001b[0;36mpandas._libs.index.IndexEngine.get_loc\u001b[0;34m()\u001b[0m\n",
      "\u001b[0;32mpandas/_libs/hashtable_class_helper.pxi\u001b[0m in \u001b[0;36mpandas._libs.hashtable.PyObjectHashTable.get_item\u001b[0;34m()\u001b[0m\n",
      "\u001b[0;32mpandas/_libs/hashtable_class_helper.pxi\u001b[0m in \u001b[0;36mpandas._libs.hashtable.PyObjectHashTable.get_item\u001b[0;34m()\u001b[0m\n",
      "\u001b[0;31mKeyError\u001b[0m: 'seconds_offset'"
     ]
    }
   ],
   "source": [
    "df.columns\n",
    "df.set_index('seconds_offset', inplace=True)\n",
    "df.groupby(\"y_pred\").mean()"
   ]
  },
  {
   "cell_type": "code",
   "execution_count": 11,
   "metadata": {},
   "outputs": [
    {
     "data": {
      "text/plain": [
       "<matplotlib.axes._subplots.AxesSubplot at 0x7f779c7b6c50>"
      ]
     },
     "execution_count": 11,
     "metadata": {},
     "output_type": "execute_result"
    },
    {
     "data": {
      "image/png": "[encoded data removed]",
      "text/plain": [
       "<Figure size 1440x864 with 1 Axes>"
      ]
     },
     "metadata": {
      "needs_background": "light"
     },
     "output_type": "display_data"
    }
   ],
   "source": [
    "df.plot(figsize=(20,12))\n"
   ]
  },
  {
   "cell_type": "code",
   "execution_count": null,
   "metadata": {},
   "outputs": [],
   "source": []
  }
 ],
 "metadata": {
  "kernelspec": {
   "display_name": "trams",
   "language": "python",
   "name": "trams"
  },
  "language_info": {
   "codemirror_mode": {
    "name": "ipython",
    "version": 3
   },
   "file_extension": ".py",
   "mimetype": "text/x-python",
   "name": "python",
   "nbconvert_exporter": "python",
   "pygments_lexer": "ipython3",
   "version": "3.6.7"
  }
 },
 "nbformat": 4,
 "nbformat_minor": 2
}
